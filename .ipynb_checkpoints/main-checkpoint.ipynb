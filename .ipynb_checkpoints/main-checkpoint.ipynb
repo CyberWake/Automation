{
 "cells": [
  {
   "cell_type": "code",
   "execution_count": 2,
   "metadata": {},
   "outputs": [],
   "source": [
    "from selenium import webdriver\n",
    "from selenium.webdriver.common.keys import Keys\n",
    "import time\n",
    "import pyautogui\n",
    "from datetime import datetime\n",
    "from tkinter import filedialog\n",
    "import pygetwindow\n",
    "import win32gui\n",
    "import win32ui\n",
    "from ctypes import windll\n",
    "from PIL import Image"
   ]
  },
  {
   "cell_type": "code",
   "execution_count": 86,
   "metadata": {},
   "outputs": [],
   "source": [
    "titles = pygetwindow.getAllTitles()"
   ]
  },
  {
   "cell_type": "code",
   "execution_count": 87,
   "metadata": {},
   "outputs": [
    {
     "data": {
      "text/plain": [
       "['',\n",
       " '',\n",
       " 'main - Jupyter Notebook and 7 more pages - Personal - Microsoft\\u200b Edge',\n",
       " 'python - Change the active Window - Stack Overflow - Google Chrome',\n",
       " 'screenshots',\n",
       " 'Anaconda Prompt (anaconda) - jupyter  notebook',\n",
       " 'Compressed',\n",
       " 'Programs',\n",
       " 'Calculator',\n",
       " 'Calculator',\n",
       " '',\n",
       " 'Alarms & Clock',\n",
       " 'Alarms & Clock',\n",
       " 'Microsoft Store',\n",
       " 'Microsoft Store',\n",
       " 'Microsoft Text Input Application',\n",
       " '',\n",
       " '',\n",
       " '',\n",
       " '',\n",
       " 'Nostalgic-Songs/App.js at main · ardourApeX/Nostalgic-Songs - Google Chrome',\n",
       " 'React App - Google Chrome',\n",
       " 'Mail',\n",
       " 'Inbox - Gmail \\u200e- Mail',\n",
       " 'Settings',\n",
       " 'Settings',\n",
       " 'Dil Dil Nazar - Shaan',\n",
       " 'WhatsApp',\n",
       " '',\n",
       " '',\n",
       " 'Program Manager']"
      ]
     },
     "execution_count": 87,
     "metadata": {},
     "output_type": "execute_result"
    }
   ],
   "source": [
    "titles"
   ]
  },
  {
   "cell_type": "code",
   "execution_count": 7,
   "metadata": {},
   "outputs": [],
   "source": [
    "image_number = 0\n",
    "exit_code = True\n",
    "email = \"joy_gupta.scsebtech@galgotiasuniversity.edu.in\"\n",
    "Password = \"Rudragupta@0412\"\n",
    "url = \"https://www.youtube.com/watch?v=YUI6Slz2l9w\"\n",
    "window_name = \"Anaconda Prompt (anaconda) - jupyter  notebook\""
   ]
  },
  {
   "cell_type": "code",
   "execution_count": 8,
   "metadata": {},
   "outputs": [],
   "source": [
    "def take_background_ss():\n",
    "    global image_number\n",
    "    hwnd = win32gui.FindWindow(None, 'Anaconda Prompt (anaconda) - jupyter  notebook')\n",
    "    # Change the line below depending on whether you want the whole window\n",
    "    # or just the client area. \n",
    "    #left, top, right, bot = win32gui.GetClientRect(hwnd)\n",
    "    left, top, right, bot = win32gui.GetWindowRect(hwnd)\n",
    "    w = right - left\n",
    "    h = bot - top\n",
    "\n",
    "    hwndDC = win32gui.GetWindowDC(hwnd)\n",
    "    mfcDC  = win32ui.CreateDCFromHandle(hwndDC)\n",
    "    saveDC = mfcDC.CreateCompatibleDC()\n",
    "\n",
    "    saveBitMap = win32ui.CreateBitmap()\n",
    "    saveBitMap.CreateCompatibleBitmap(mfcDC, w, h)\n",
    "\n",
    "    saveDC.SelectObject(saveBitMap)\n",
    "\n",
    "    # Change the line below depending on whether you want the whole window\n",
    "    # or just the client area. \n",
    "    #result = windll.user32.PrintWindow(hwnd, saveDC.GetSafeHdc(), 1)\n",
    "    result = windll.user32.PrintWindow(hwnd, saveDC.GetSafeHdc(), 0)\n",
    "    print(result)\n",
    "\n",
    "    bmpinfo = saveBitMap.GetInfo()\n",
    "    print(bmpinfo)\n",
    "    bmpstr = saveBitMap.GetBitmapBits(True)\n",
    "\n",
    "    im = Image.frombuffer(\n",
    "        'RGB',\n",
    "        (bmpinfo['bmWidth'], bmpinfo['bmHeight']),\n",
    "        bmpstr, 'raw', 'BGRX', 0, 1)\n",
    "\n",
    "    win32gui.DeleteObject(saveBitMap.GetHandle())\n",
    "    saveDC.DeleteDC()\n",
    "    mfcDC.DeleteDC()\n",
    "    win32gui.ReleaseDC(hwnd, hwndDC)\n",
    "    if result == 1:\n",
    "        #PrintWindow Succeeded\n",
    "        im.save(\"./screenshots/screenshot\" + str(image_number) + \".png\")\n",
    "        image_number += 1"
   ]
  },
  {
   "cell_type": "code",
   "execution_count": 9,
   "metadata": {},
   "outputs": [],
   "source": [
    "def automation():\n",
    "    '''Open the browser -> sign-in to google account through stackoverflow -> redirect to youtube live stream -> take a screenshot -> return'''\n",
    "    global email\n",
    "    global Password\n",
    "    global url\n",
    "    global exit_code \n",
    "    \n",
    "    driver = webdriver.Chrome(executable_path = \"./chromedriver.exe\")\n",
    "    driver.get(\"https://stackoverflow.com/users/signup?ssrc=head&returnurl=%2fusers%2fstory%2fcurrent\")\n",
    "    \n",
    "    signin = driver.find_element_by_class_name(\"s-btn__google\")\n",
    "    signin.send_keys(Keys.ENTER)\n",
    "    inputElement = driver.find_element_by_tag_name(\"input\")\n",
    "    inputElement.send_keys(email)\n",
    "    inputElement.send_keys(Keys.ENTER)\n",
    "    time.sleep(2)\n",
    "    password = driver.find_element_by_class_name(\"Xb9hP\")\n",
    "    password = password.find_element_by_tag_name(\"input\")\n",
    "    password.send_keys(Password)\n",
    "    password.send_keys(Keys.ENTER)\n",
    "    time.sleep(3)\n",
    "    driver.get(url)\n",
    "    try:\n",
    "        driver.find_element_by_id(\"reason\") #If the live stream is ended\n",
    "        exit_code = False        \n",
    "    except:\n",
    "        time.sleep(30)\n",
    "        account = driver.find_element_by_id(\"avatar-btn\")\n",
    "        account.click()\n",
    "        time.sleep(2)\n",
    "        take_background_ss()\n",
    "    finally:\n",
    "        driver.quit()\n",
    "    return"
   ]
  },
  {
   "cell_type": "code",
   "execution_count": 13,
   "metadata": {
    "scrolled": false
   },
   "outputs": [
    {
     "ename": "KeyboardInterrupt",
     "evalue": "",
     "output_type": "error",
     "traceback": [
      "\u001b[1;31m---------------------------------------------------------------------------\u001b[0m",
      "\u001b[1;31mNoSuchElementException\u001b[0m                    Traceback (most recent call last)",
      "\u001b[1;32m<ipython-input-9-34525fb8840e>\u001b[0m in \u001b[0;36mautomation\u001b[1;34m(url)\u001b[0m\n\u001b[0;32m     19\u001b[0m     \u001b[1;32mtry\u001b[0m\u001b[1;33m:\u001b[0m\u001b[1;33m\u001b[0m\u001b[1;33m\u001b[0m\u001b[0m\n\u001b[1;32m---> 20\u001b[1;33m         \u001b[0mdriver\u001b[0m\u001b[1;33m.\u001b[0m\u001b[0mfind_element_by_id\u001b[0m\u001b[1;33m(\u001b[0m\u001b[1;34m\"reason\"\u001b[0m\u001b[1;33m)\u001b[0m \u001b[1;31m#If the live stream ended\u001b[0m\u001b[1;33m\u001b[0m\u001b[1;33m\u001b[0m\u001b[0m\n\u001b[0m\u001b[0;32m     21\u001b[0m         \u001b[0mexit_code\u001b[0m \u001b[1;33m=\u001b[0m \u001b[1;32mFalse\u001b[0m\u001b[1;33m\u001b[0m\u001b[1;33m\u001b[0m\u001b[0m\n",
      "\u001b[1;32ms:\\installation\\anaconda\\envs\\gpu\\lib\\site-packages\\selenium\\webdriver\\remote\\webdriver.py\u001b[0m in \u001b[0;36mfind_element_by_id\u001b[1;34m(self, id_)\u001b[0m\n\u001b[0;32m    359\u001b[0m         \"\"\"\n\u001b[1;32m--> 360\u001b[1;33m         \u001b[1;32mreturn\u001b[0m \u001b[0mself\u001b[0m\u001b[1;33m.\u001b[0m\u001b[0mfind_element\u001b[0m\u001b[1;33m(\u001b[0m\u001b[0mby\u001b[0m\u001b[1;33m=\u001b[0m\u001b[0mBy\u001b[0m\u001b[1;33m.\u001b[0m\u001b[0mID\u001b[0m\u001b[1;33m,\u001b[0m \u001b[0mvalue\u001b[0m\u001b[1;33m=\u001b[0m\u001b[0mid_\u001b[0m\u001b[1;33m)\u001b[0m\u001b[1;33m\u001b[0m\u001b[1;33m\u001b[0m\u001b[0m\n\u001b[0m\u001b[0;32m    361\u001b[0m \u001b[1;33m\u001b[0m\u001b[0m\n",
      "\u001b[1;32ms:\\installation\\anaconda\\envs\\gpu\\lib\\site-packages\\selenium\\webdriver\\remote\\webdriver.py\u001b[0m in \u001b[0;36mfind_element\u001b[1;34m(self, by, value)\u001b[0m\n\u001b[0;32m    975\u001b[0m                 \u001b[0mvalue\u001b[0m \u001b[1;33m=\u001b[0m \u001b[1;34m'[name=\"%s\"]'\u001b[0m \u001b[1;33m%\u001b[0m \u001b[0mvalue\u001b[0m\u001b[1;33m\u001b[0m\u001b[1;33m\u001b[0m\u001b[0m\n\u001b[1;32m--> 976\u001b[1;33m         return self.execute(Command.FIND_ELEMENT, {\n\u001b[0m\u001b[0;32m    977\u001b[0m             \u001b[1;34m'using'\u001b[0m\u001b[1;33m:\u001b[0m \u001b[0mby\u001b[0m\u001b[1;33m,\u001b[0m\u001b[1;33m\u001b[0m\u001b[1;33m\u001b[0m\u001b[0m\n",
      "\u001b[1;32ms:\\installation\\anaconda\\envs\\gpu\\lib\\site-packages\\selenium\\webdriver\\remote\\webdriver.py\u001b[0m in \u001b[0;36mexecute\u001b[1;34m(self, driver_command, params)\u001b[0m\n\u001b[0;32m    320\u001b[0m         \u001b[1;32mif\u001b[0m \u001b[0mresponse\u001b[0m\u001b[1;33m:\u001b[0m\u001b[1;33m\u001b[0m\u001b[1;33m\u001b[0m\u001b[0m\n\u001b[1;32m--> 321\u001b[1;33m             \u001b[0mself\u001b[0m\u001b[1;33m.\u001b[0m\u001b[0merror_handler\u001b[0m\u001b[1;33m.\u001b[0m\u001b[0mcheck_response\u001b[0m\u001b[1;33m(\u001b[0m\u001b[0mresponse\u001b[0m\u001b[1;33m)\u001b[0m\u001b[1;33m\u001b[0m\u001b[1;33m\u001b[0m\u001b[0m\n\u001b[0m\u001b[0;32m    322\u001b[0m             response['value'] = self._unwrap_value(\n",
      "\u001b[1;32ms:\\installation\\anaconda\\envs\\gpu\\lib\\site-packages\\selenium\\webdriver\\remote\\errorhandler.py\u001b[0m in \u001b[0;36mcheck_response\u001b[1;34m(self, response)\u001b[0m\n\u001b[0;32m    241\u001b[0m             \u001b[1;32mraise\u001b[0m \u001b[0mexception_class\u001b[0m\u001b[1;33m(\u001b[0m\u001b[0mmessage\u001b[0m\u001b[1;33m,\u001b[0m \u001b[0mscreen\u001b[0m\u001b[1;33m,\u001b[0m \u001b[0mstacktrace\u001b[0m\u001b[1;33m,\u001b[0m \u001b[0malert_text\u001b[0m\u001b[1;33m)\u001b[0m\u001b[1;33m\u001b[0m\u001b[1;33m\u001b[0m\u001b[0m\n\u001b[1;32m--> 242\u001b[1;33m         \u001b[1;32mraise\u001b[0m \u001b[0mexception_class\u001b[0m\u001b[1;33m(\u001b[0m\u001b[0mmessage\u001b[0m\u001b[1;33m,\u001b[0m \u001b[0mscreen\u001b[0m\u001b[1;33m,\u001b[0m \u001b[0mstacktrace\u001b[0m\u001b[1;33m)\u001b[0m\u001b[1;33m\u001b[0m\u001b[1;33m\u001b[0m\u001b[0m\n\u001b[0m\u001b[0;32m    243\u001b[0m \u001b[1;33m\u001b[0m\u001b[0m\n",
      "\u001b[1;31mNoSuchElementException\u001b[0m: Message: no such element: Unable to locate element: {\"method\":\"css selector\",\"selector\":\"[id=\"reason\"]\"}\n  (Session info: chrome=88.0.4324.182)\n",
      "\nDuring handling of the above exception, another exception occurred:\n",
      "\u001b[1;31mKeyboardInterrupt\u001b[0m                         Traceback (most recent call last)",
      "\u001b[1;32m<ipython-input-13-7d22df596a26>\u001b[0m in \u001b[0;36m<module>\u001b[1;34m\u001b[0m\n\u001b[0;32m      1\u001b[0m \u001b[1;32mif\u001b[0m \u001b[0m__name__\u001b[0m \u001b[1;33m==\u001b[0m \u001b[1;34m\"__main__\"\u001b[0m\u001b[1;33m:\u001b[0m\u001b[1;33m\u001b[0m\u001b[1;33m\u001b[0m\u001b[0m\n\u001b[0;32m      2\u001b[0m     \u001b[1;32mwhile\u001b[0m\u001b[1;33m(\u001b[0m\u001b[0mexit_code\u001b[0m\u001b[1;33m)\u001b[0m\u001b[1;33m:\u001b[0m\u001b[1;33m\u001b[0m\u001b[1;33m\u001b[0m\u001b[0m\n\u001b[1;32m----> 3\u001b[1;33m         \u001b[0mautomation\u001b[0m\u001b[1;33m(\u001b[0m\u001b[1;33m)\u001b[0m\u001b[1;33m\u001b[0m\u001b[1;33m\u001b[0m\u001b[0m\n\u001b[0m\u001b[0;32m      4\u001b[0m         \u001b[0mtime\u001b[0m\u001b[1;33m.\u001b[0m\u001b[0msleep\u001b[0m\u001b[1;33m(\u001b[0m\u001b[1;36m10\u001b[0m\u001b[1;33m)\u001b[0m\u001b[1;33m\u001b[0m\u001b[1;33m\u001b[0m\u001b[0m\n",
      "\u001b[1;32m<ipython-input-9-34525fb8840e>\u001b[0m in \u001b[0;36mautomation\u001b[1;34m(url)\u001b[0m\n\u001b[0;32m     21\u001b[0m         \u001b[0mexit_code\u001b[0m \u001b[1;33m=\u001b[0m \u001b[1;32mFalse\u001b[0m\u001b[1;33m\u001b[0m\u001b[1;33m\u001b[0m\u001b[0m\n\u001b[0;32m     22\u001b[0m     \u001b[1;32mexcept\u001b[0m\u001b[1;33m:\u001b[0m\u001b[1;33m\u001b[0m\u001b[1;33m\u001b[0m\u001b[0m\n\u001b[1;32m---> 23\u001b[1;33m         \u001b[0mtime\u001b[0m\u001b[1;33m.\u001b[0m\u001b[0msleep\u001b[0m\u001b[1;33m(\u001b[0m\u001b[1;36m15\u001b[0m\u001b[1;33m)\u001b[0m\u001b[1;33m\u001b[0m\u001b[1;33m\u001b[0m\u001b[0m\n\u001b[0m\u001b[0;32m     24\u001b[0m         \u001b[0maccount\u001b[0m \u001b[1;33m=\u001b[0m \u001b[0mdriver\u001b[0m\u001b[1;33m.\u001b[0m\u001b[0mfind_element_by_id\u001b[0m\u001b[1;33m(\u001b[0m\u001b[1;34m\"avatar-btn\"\u001b[0m\u001b[1;33m)\u001b[0m\u001b[1;33m\u001b[0m\u001b[1;33m\u001b[0m\u001b[0m\n\u001b[0;32m     25\u001b[0m         \u001b[0maccount\u001b[0m\u001b[1;33m.\u001b[0m\u001b[0mclick\u001b[0m\u001b[1;33m(\u001b[0m\u001b[1;33m)\u001b[0m\u001b[1;33m\u001b[0m\u001b[1;33m\u001b[0m\u001b[0m\n",
      "\u001b[1;31mKeyboardInterrupt\u001b[0m: "
     ]
    }
   ],
   "source": [
    "if __name__ == \"__main__\":\n",
    "    while(exit_code):\n",
    "        automation()\n",
    "        time.sleep(10)"
   ]
  },
  {
   "cell_type": "code",
   "execution_count": 91,
   "metadata": {},
   "outputs": [
    {
     "name": "stdout",
     "output_type": "stream",
     "text": [
      "Collecting image\n"
     ]
    },
    {
     "name": "stderr",
     "output_type": "stream",
     "text": [
      "WARNING: You are using pip version 20.2.4; however, version 21.0.1 is available.\n",
      "You should consider upgrading via the 'S:\\Installation\\anaconda\\envs\\gpu\\python.exe -m pip install --upgrade pip' command.\n"
     ]
    },
    {
     "name": "stdout",
     "output_type": "stream",
     "text": [
      "  Downloading image-1.5.33.tar.gz (15 kB)\n",
      "Requirement already satisfied: pillow in s:\\installation\\anaconda\\envs\\gpu\\lib\\site-packages (from image) (8.0.1)\n",
      "Collecting django\n",
      "  Downloading Django-3.1.6-py3-none-any.whl (7.8 MB)\n",
      "Requirement already satisfied: six in s:\\installation\\anaconda\\envs\\gpu\\lib\\site-packages (from image) (1.15.0)\n",
      "Collecting asgiref<4,>=3.2.10\n",
      "  Downloading asgiref-3.3.1-py3-none-any.whl (19 kB)\n",
      "Requirement already satisfied: pytz in s:\\installation\\anaconda\\envs\\gpu\\lib\\site-packages (from django->image) (2020.4)\n",
      "Collecting sqlparse>=0.2.2\n",
      "  Downloading sqlparse-0.4.1-py3-none-any.whl (42 kB)\n",
      "Building wheels for collected packages: image\n",
      "  Building wheel for image (setup.py): started\n",
      "  Building wheel for image (setup.py): finished with status 'done'\n",
      "  Created wheel for image: filename=image-1.5.33-py2.py3-none-any.whl size=19486 sha256=186fea66c90ae2ea866d337058ce276ca58aa902422026dbc4f8a51b3b83decf\n",
      "  Stored in directory: c:\\users\\joygu\\appdata\\local\\pip\\cache\\wheels\\ac\\30\\5c\\a8b33888bea3507eda7c924a143d34b2390d2ca5b145b327b5\n",
      "Successfully built image\n",
      "Installing collected packages: asgiref, sqlparse, django, image\n",
      "Successfully installed asgiref-3.3.1 django-3.1.6 image-1.5.33 sqlparse-0.4.1\n"
     ]
    }
   ],
   "source": [
    "!pip install image"
   ]
  },
  {
   "cell_type": "code",
   "execution_count": null,
   "metadata": {},
   "outputs": [],
   "source": []
  }
 ],
 "metadata": {
  "kernelspec": {
   "display_name": "Python 3",
   "language": "python",
   "name": "python3"
  },
  "language_info": {
   "codemirror_mode": {
    "name": "ipython",
    "version": 3
   },
   "file_extension": ".py",
   "mimetype": "text/x-python",
   "name": "python",
   "nbconvert_exporter": "python",
   "pygments_lexer": "ipython3",
   "version": "3.8.5"
  }
 },
 "nbformat": 4,
 "nbformat_minor": 4
}
